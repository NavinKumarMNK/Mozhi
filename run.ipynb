{
 "cells": [
  {
   "cell_type": "code",
   "execution_count": 2,
   "metadata": {},
   "outputs": [],
   "source": [
    "import torch\n",
    "import pandas as pd\n",
    "import tokenizers\n",
    "import transformers\n",
    "\n",
    "from pathlib import Path\n",
    "from typing import Generator\n",
    "from tqdm import tqdm\n",
    "\n",
    "from tokenizers import (\n",
    "    Tokenizer, \n",
    "    models, \n",
    "    normalizers, \n",
    "    pre_tokenizers, \n",
    "    decoders, \n",
    "    trainers, \n",
    "    processors\n",
    ")\n",
    "\n",
    "import os\n",
    "import yaml\n",
    "with open('config.yaml') as f:\n",
    "    config = yaml.load(f, Loader=yaml.FullLoader)\n",
    "           "
   ]
  },
  {
   "cell_type": "markdown",
   "metadata": {},
   "source": [
    "## **Data Preprocessing**"
   ]
  },
  {
   "cell_type": "code",
   "execution_count": 3,
   "metadata": {},
   "outputs": [
    {
     "data": {
      "text/plain": [
       "{'train1.en.txt': 'train1.ta.txt',\n",
       " 'train2.en.txt': 'train2.ta.txt',\n",
       " 'train3.en.txt': 'train3.ta.txt'}"
      ]
     },
     "execution_count": 3,
     "metadata": {},
     "output_type": "execute_result"
    }
   ],
   "source": [
    "data_config = config['data']\n",
    "docs = data_config['src_to_tgt']\n",
    "src_lang = data_config['src']\n",
    "tgt_lang = data_config['tgt']\n",
    "docs"
   ]
  },
  {
   "cell_type": "code",
   "execution_count": 4,
   "metadata": {},
   "outputs": [
    {
     "data": {
      "text/html": [
       "<div>\n",
       "<style scoped>\n",
       "    .dataframe tbody tr th:only-of-type {\n",
       "        vertical-align: middle;\n",
       "    }\n",
       "\n",
       "    .dataframe tbody tr th {\n",
       "        vertical-align: top;\n",
       "    }\n",
       "\n",
       "    .dataframe thead th {\n",
       "        text-align: right;\n",
       "    }\n",
       "</style>\n",
       "<table border=\"1\" class=\"dataframe\">\n",
       "  <thead>\n",
       "    <tr style=\"text-align: right;\">\n",
       "      <th></th>\n",
       "      <th>en</th>\n",
       "      <th>ta</th>\n",
       "    </tr>\n",
       "  </thead>\n",
       "  <tbody>\n",
       "    <tr>\n",
       "      <th>0</th>\n",
       "      <td>That's what I am saying.</td>\n",
       "      <td>என்றுதான் நான் சொல்ல வருகிறேன்.</td>\n",
       "    </tr>\n",
       "    <tr>\n",
       "      <th>1</th>\n",
       "      <td>Every tournament is difficult.</td>\n",
       "      <td>ஒவ்வொரு சுற்றுப்பயணமும் கடினமானது.</td>\n",
       "    </tr>\n",
       "    <tr>\n",
       "      <th>2</th>\n",
       "      <td>One of the first questions Flavio posed was, D...</td>\n",
       "      <td>பல வருடங்களாக அவர் அந்த நித்திய எரிநரக தண்டனைய...</td>\n",
       "    </tr>\n",
       "    <tr>\n",
       "      <th>3</th>\n",
       "      <td>He gave full credit to the Union Finance Minis...</td>\n",
       "      <td>அவர் நிதி அமைச்சர் அருண்ஜேட்லியின் முயற்சியை த...</td>\n",
       "    </tr>\n",
       "    <tr>\n",
       "      <th>4</th>\n",
       "      <td>Some art historians have suggested that he onl...</td>\n",
       "      <td>சில கலை வரலாற்றாசிரியர்கள் அவர் ஒரு வருடத்திற்...</td>\n",
       "    </tr>\n",
       "    <tr>\n",
       "      <th>...</th>\n",
       "      <td>...</td>\n",
       "      <td>...</td>\n",
       "    </tr>\n",
       "    <tr>\n",
       "      <th>5198656</th>\n",
       "      <td>mental</td>\n",
       "      <td>மன</td>\n",
       "    </tr>\n",
       "    <tr>\n",
       "      <th>5198657</th>\n",
       "      <td>mental aberration</td>\n",
       "      <td>மனப் பிறழ்ச்சி</td>\n",
       "    </tr>\n",
       "    <tr>\n",
       "      <th>5198658</th>\n",
       "      <td>mental competency</td>\n",
       "      <td>மனத் தேர்ச்சி</td>\n",
       "    </tr>\n",
       "    <tr>\n",
       "      <th>5198659</th>\n",
       "      <td>mental deficiency</td>\n",
       "      <td>மன ஊனம்</td>\n",
       "    </tr>\n",
       "    <tr>\n",
       "      <th>5198660</th>\n",
       "      <td>mention</td>\n",
       "      <td>குறிப்பிடு</td>\n",
       "    </tr>\n",
       "  </tbody>\n",
       "</table>\n",
       "<p>5198661 rows × 2 columns</p>\n",
       "</div>"
      ],
      "text/plain": [
       "                                                        en  \\\n",
       "0                                 That's what I am saying.   \n",
       "1                           Every tournament is difficult.   \n",
       "2        One of the first questions Flavio posed was, D...   \n",
       "3        He gave full credit to the Union Finance Minis...   \n",
       "4        Some art historians have suggested that he onl...   \n",
       "...                                                    ...   \n",
       "5198656                                             mental   \n",
       "5198657                                  mental aberration   \n",
       "5198658                                  mental competency   \n",
       "5198659                                  mental deficiency   \n",
       "5198660                                            mention   \n",
       "\n",
       "                                                        ta  \n",
       "0                          என்றுதான் நான் சொல்ல வருகிறேன்.  \n",
       "1                       ஒவ்வொரு சுற்றுப்பயணமும் கடினமானது.  \n",
       "2        பல வருடங்களாக அவர் அந்த நித்திய எரிநரக தண்டனைய...  \n",
       "3        அவர் நிதி அமைச்சர் அருண்ஜேட்லியின் முயற்சியை த...  \n",
       "4        சில கலை வரலாற்றாசிரியர்கள் அவர் ஒரு வருடத்திற்...  \n",
       "...                                                    ...  \n",
       "5198656                                                 மன  \n",
       "5198657                                     மனப் பிறழ்ச்சி  \n",
       "5198658                                      மனத் தேர்ச்சி  \n",
       "5198659                                            மன ஊனம்  \n",
       "5198660                                         குறிப்பிடு  \n",
       "\n",
       "[5198661 rows x 2 columns]"
      ]
     },
     "execution_count": 4,
     "metadata": {},
     "output_type": "execute_result"
    }
   ],
   "source": [
    "def read_text_file(file_path):\n",
    "    with open(file_path, 'r') as file:\n",
    "        lines = [line.strip() for line in file.readlines()]\n",
    "    return lines\n",
    "\n",
    "dfs = []\n",
    "for key, val in docs.items():\n",
    "    txt1, txt2 = (read_text_file(os.path.join(data_config['data_dir'], key)), \n",
    "                  read_text_file(os.path.join(data_config['data_dir'], val)))\n",
    "    corpus = pd.DataFrame({'src': txt1, 'tgt': txt2})    \n",
    "    dfs.append(corpus)\n",
    "\n",
    "corpus = pd.concat(dfs, ignore_index=True)\n",
    "corpus.rename(columns={'src': data_config['src'], 'tgt': data_config['tgt']}, inplace=True)\n",
    "corpus"
   ]
  },
  {
   "cell_type": "code",
   "execution_count": 5,
   "metadata": {},
   "outputs": [],
   "source": [
    "# corpus.to_parquet(os.path.join(data_config['data_dir'], 'dataset_large.parquet'), index=False)"
   ]
  },
  {
   "cell_type": "markdown",
   "metadata": {},
   "source": [
    "## **Build Tokenizer**"
   ]
  },
  {
   "cell_type": "code",
   "execution_count": 58,
   "metadata": {},
   "outputs": [],
   "source": [
    "\n",
    "def train_bpe_tokenizer(tokenizer: Tokenizer, series, config):\n",
    "    tokenizer_path = Path(config['tokenizer_path'])\n",
    "    special_tokens = {\n",
    "        config['special_tokens']['bos_token']: 0,\n",
    "        config['special_tokens']['pad_token']: 1,\n",
    "        config['special_tokens']['eos_token']: 2,\n",
    "        config['special_tokens']['unk_token']: 3,\n",
    "        config['special_tokens']['mask_token']: 50264,\n",
    "    }\n",
    "    \n",
    "    if config['lang'] == 'en':\n",
    "        normalizer = normalizers.Sequence([\n",
    "            normalizers.NFKC(),\n",
    "            normalizers.Lowercase()\n",
    "        ])\n",
    "        pre_tokenizer = pre_tokenizers.Metaspace()\n",
    "        decoder = decoders.Metaspace()\n",
    "    elif config['lang'] == 'ta':\n",
    "        normalizer = normalizers.NFKC()\n",
    "        pre_tokenizer = pre_tokenizers.ByteLevel()\n",
    "        decoder = decoders.ByteLevel()\n",
    "    else:\n",
    "        raise ValueError(f\"Unsupported language: {config['lang']}\")\n",
    "    \n",
    "    post_processor = processors.TemplateProcessing(\n",
    "        single=f\"{config['special_tokens']['bos_token']} $A {config['special_tokens']['eos_token']}\",\n",
    "        special_tokens=list(special_tokens.items()),\n",
    "    )\n",
    "    \n",
    "    trainer = trainers.BpeTrainer(\n",
    "        special_tokens=list(special_tokens.keys()),\n",
    "        vocab_size=config['vocab_size'],\n",
    "        min_frequency=config['min_frequency'],\n",
    "        show_progress=True,\n",
    "    )\n",
    "\n",
    "    tokenizer.normalizer = normalizer\n",
    "    tokenizer.pre_tokenizer = pre_tokenizer\n",
    "    tokenizer.decoder = decoder\n",
    "    tokenizer.post_processor = post_processor\n",
    "    \n",
    "    def get_sentences(series: pd.Series) -> Generator[str, None, None]:\n",
    "        for text in series:\n",
    "            yield text\n",
    "\n",
    "    tokenizer.train_from_iterator(\n",
    "        get_sentences(series=series),\n",
    "        trainer=trainer,\n",
    "        length=len(series),\n",
    "    )\n",
    "\n",
    "    tokenizer.save(str(tokenizer_path))\n",
    "    print(tokenizer)\n",
    "    print(tokenizer.get_vocab_size())\n"
   ]
  },
  {
   "cell_type": "code",
   "execution_count": 60,
   "metadata": {},
   "outputs": [
    {
     "name": "stdout",
     "output_type": "stream",
     "text": [
      "\n",
      "\n",
      "\n",
      "<tokenizers.Tokenizer object at 0x559c74a0cb00>\n",
      "50265\n",
      "[0, 3013, 270, 184, 329, 9500, 2]\n",
      "[0, 0, 0, 0, 0, 0, 0]\n",
      "['<s>', \"▁that's\", '▁what', '▁i', '▁am', '▁saying.', '</s>']\n",
      "[]\n",
      "decoded_string = \"that's what i am saying.\"\n",
      "Size of vocabulary: 50265\n",
      "Successfully trained tokenizer <tokenizers.Tokenizer object at 0x559c74a0cb00>\n",
      "\n",
      "\n",
      "\n",
      "<tokenizers.Tokenizer object at 0x559c7d3353a0>\n",
      "50265\n",
      "[0, 258, 212, 227, 214, 217, 219, 221, 212, 244, 219, 221, 212, 241, 249, 224, 212, 224, 274, 214, 216, 215, 227, 238, 221, 246, 2]\n",
      "[0, 0, 0, 0, 0, 0, 0, 0, 0, 0, 0, 0, 0, 0, 0, 0, 0, 0, 0, 0, 0, 0, 0, 0, 0, 0, 0]\n",
      "['<s>', 'Ġà®İà®©', 'à¯į', 'à®±', 'à¯ģ', 'à®¤', 'à®¾', 'à®©', 'à¯į', 'Ġà®¨', 'à®¾', 'à®©', 'à¯į', 'Ġà®ļ', 'à¯Ĭ', 'à®²', 'à¯į', 'à®²', 'Ġà®µà®°', 'à¯ģ', 'à®ķ', 'à®¿', 'à®±', 'à¯ĩ', 'à®©', 'à¯į.', '</s>']\n",
      "[]\n",
      "decoded_string = ' என்றுதான் நான் சொல்ல வருகிறேன்.'\n",
      "Size of vocabulary: 50265\n",
      "Successfully trained tokenizer <tokenizers.Tokenizer object at 0x559c7d3353a0>\n"
     ]
    }
   ],
   "source": [
    "with open('config.yaml') as f:\n",
    "    config = yaml.load(f, Loader=yaml.FullLoader)\n",
    "\n",
    "config = config['tokenizer']\n",
    "df = pd.read_parquet(config['data_path'])\n",
    "\n",
    "for items in (config['src'], config['tgt']):\n",
    "    _df = df[items['lang']]\n",
    "\n",
    "    tokenizer = Tokenizer(models.BPE(unk_token=items['special_tokens']['unk_token']))\n",
    "    train_bpe_tokenizer(tokenizer, _df, items)\n",
    "\n",
    "    encoded_tokens = tokenizer.encode(_df[0])\n",
    "    print(encoded_tokens.ids)\n",
    "    print(encoded_tokens.type_ids)\n",
    "    print(encoded_tokens.tokens)\n",
    "    print(encoded_tokens.overflowing)\n",
    "\n",
    "    encoded_ids = encoded_tokens.ids\n",
    "\n",
    "    decoded_string = tokenizer.decode(encoded_ids)\n",
    "    print(f\"{decoded_string = }\")\n",
    "\n",
    "    print(\"Size of vocabulary:\", tokenizer.get_vocab_size())\n",
    "    print(\"Successfully trained tokenizer\", tokenizer)\n"
   ]
  },
  {
   "cell_type": "code",
   "execution_count": 63,
   "metadata": {},
   "outputs": [
    {
     "name": "stdout",
     "output_type": "stream",
     "text": [
      "[0, 266, 212, 244, 215, 217, 215, 299, 226, 235, 212, 366, 212, 418, 214, 242, 212, 304, 238, 220, 212, 224, 215, 228, 215, 221, 212, 234, 214, 471, 212, 235, 215, 228, 226, 240, 249, 251, 215, 224, 212, 371, 212, 270, 212, 217, 215, 228, 215, 224, 212, 608, 214, 250, 212, 220, 214, 225, 212, 225, 234, 219, 237, 215, 546, 212, 232, 212, 355, 212, 217, 215, 228, 321, 215, 221, 212, 454, 215, 228, 226, 223, 212, 608, 219, 216, 230, 243, 227, 214, 406, 212, 216, 214, 332, 212, 227, 281, 212, 905, 226, 229, 215, 217, 215, 228, 226, 299, 226, 217, 212, 217, 214, 216, 212, 216, 249, 220, 214, 217, 212, 863, 212, 216, 214, 222, 212, 276, 212, 227, 214, 222, 212, 240, 249, 251, 215, 224, 212, 371, 212, 270, 212, 217, 215, 324, 212, 224, 219, 217, 234, 219, 237, 215, 546, 212, 232, 214, 293, 212, 240, 219, 248, 212, 232, 212, 1263, 219, 216, 236, 226, 216, 212, 273, 212, 250, 212, 220, 214, 225, 212, 225, 219, 218, 212, 232, 212, 258, 212, 227, 231, 219, 251, 212, 223, 212, 223, 214, 644, 212, 235, 212, 235, 215, 216, 212, 216, 214, 607, 215, 224, 212, 224, 219, 402, 212, 260, 214, 223, 212, 522, 212, 216, 238, 227, 212, 227, 244, 215, 224, 226, 228, 226, 332, 212, 250, 214, 217, 212, 217, 215, 1645, 212, 216, 219, 280, 214, 222, 212, 236, 243, 216, 214, 229, 219, 216, 230, 219, 218, 219, 220, 212, 220, 215, 221, 219, 218, 246, 2]\n",
      "[0, 0, 0, 0, 0, 0, 0, 0, 0, 0, 0, 0, 0, 0, 0, 0, 0, 0, 0, 0, 0, 0, 0, 0, 0, 0, 0, 0, 0, 0, 0, 0, 0, 0, 0, 0, 0, 0, 0, 0, 0, 0, 0, 0, 0, 0, 0, 0, 0, 0, 0, 0, 0, 0, 0, 0, 0, 0, 0, 0, 0, 0, 0, 0, 0, 0, 0, 0, 0, 0, 0, 0, 0, 0, 0, 0, 0, 0, 0, 0, 0, 0, 0, 0, 0, 0, 0, 0, 0, 0, 0, 0, 0, 0, 0, 0, 0, 0, 0, 0, 0, 0, 0, 0, 0, 0, 0, 0, 0, 0, 0, 0, 0, 0, 0, 0, 0, 0, 0, 0, 0, 0, 0, 0, 0, 0, 0, 0, 0, 0, 0, 0, 0, 0, 0, 0, 0, 0, 0, 0, 0, 0, 0, 0, 0, 0, 0, 0, 0, 0, 0, 0, 0, 0, 0, 0, 0, 0, 0, 0, 0, 0, 0, 0, 0, 0, 0, 0, 0, 0, 0, 0, 0, 0, 0, 0, 0, 0, 0, 0, 0, 0, 0, 0, 0, 0, 0, 0, 0, 0, 0, 0, 0, 0, 0, 0, 0, 0, 0, 0, 0, 0, 0, 0, 0, 0, 0, 0, 0, 0, 0, 0, 0, 0, 0, 0, 0, 0, 0, 0, 0, 0, 0, 0, 0, 0, 0, 0, 0, 0, 0, 0, 0, 0, 0, 0, 0, 0, 0, 0, 0, 0, 0, 0, 0, 0, 0, 0, 0, 0, 0, 0, 0, 0, 0, 0, 0, 0, 0, 0, 0, 0, 0, 0, 0, 0, 0, 0, 0]\n",
      "['<s>', 'Ġà®ħà®µà®°', 'à¯į', 'Ġà®¨', 'à®¿', 'à®¤', 'à®¿', 'Ġà®ħà®®', 'à¯Ī', 'à®ļ', 'à¯į', 'à®ļà®°', 'à¯į', 'Ġà®ħà®°', 'à¯ģ', 'à®£', 'à¯į', 'à®ľ', 'à¯ĩ', 'à®Ł', 'à¯į', 'à®²', 'à®¿', 'à®¯', 'à®¿', 'à®©', 'à¯į', 'Ġà®®', 'à¯ģ', 'à®¯à®±', 'à¯į', 'à®ļ', 'à®¿', 'à®¯', 'à¯Ī', 'Ġà®¤', 'à¯Ĭ', 'à®´', 'à®¿', 'à®²', 'à¯į', 'Ġà®īà®±', 'à¯į', 'à®ªà®¤', 'à¯į', 'à®¤', 'à®¿', 'à®¯', 'à®¿', 'à®²', 'à¯į', 'Ġà®Īà®Ł', 'à¯ģ', 'à®ªà®Ł', 'à¯į', 'à®Ł', 'à¯ģ', 'à®³', 'à¯į', 'à®³', 'Ġà®®', 'à®¾', 'à®¨', 'à®¿', 'à®²à®Ļ', 'à¯į', 'à®ķà®³', 'à¯į', 'Ġà®®à®¤', 'à¯į', 'à®¤', 'à®¿', 'à®¯', 'Ġà®ħà®°à®ļ', 'à®¿', 'à®©', 'à¯į', 'Ġà®īà®¤à®µ', 'à®¿', 'à®¯', 'à¯Ī', 'à®ª', 'à¯į', 'Ġà®Īà®Ł', 'à®¾', 'à®ķ', 'Ġà®ª', 'à¯Ĩ', 'à®±', 'à¯ģ', 'à®µà®¤à®±', 'à¯į', 'à®ķ', 'à¯ģ', 'Ġà®ıà®±', 'à¯į', 'à®±', 'Ġà®ķà®Ł', 'à¯į', 'à®Łà®³', 'à¯Ī', 'à®µ', 'à®¿', 'à®¤', 'à®¿', 'à®¯', 'à¯Ī', 'Ġà®ħà®®', 'à¯Ī', 'à®¤', 'à¯į', 'à®¤', 'à¯ģ', 'à®ķ', 'à¯į', 'à®ķ', 'à¯Ĭ', 'à®Ł', 'à¯ģ', 'à®¤', 'à¯į', 'à®¤à®±', 'à¯į', 'à®ķ', 'à¯ģ', 'à®®', 'à¯į', 'Ġà®®à®±', 'à¯į', 'à®±', 'à¯ģ', 'à®®', 'à¯į', 'Ġà®¤', 'à¯Ĭ', 'à®´', 'à®¿', 'à®²', 'à¯į', 'Ġà®īà®±', 'à¯į', 'à®ªà®¤', 'à¯į', 'à®¤', 'à®¿', 'Ġà®ĩà®²', 'à¯į', 'à®²', 'à®¾', 'à®¤', 'Ġà®®', 'à®¾', 'à®¨', 'à®¿', 'à®²à®Ļ', 'à¯į', 'à®ķà®³', 'à¯ģ', 'à®Łà®©', 'à¯į', 'Ġà®¤', 'à®¾', 'à®Ļ', 'à¯į', 'à®ķà®³', 'à¯į', 'Ġà®ļà®®à®®', 'à®¾', 'à®ķ', 'Ġà®µ', 'à¯Ī', 'à®ķ', 'à¯į', 'à®ķà®ª', 'à¯į', 'à®ªà®Ł', 'à¯į', 'à®Ł', 'à¯ģ', 'à®³', 'à¯į', 'à®³', 'à®¾', 'à®°', 'à¯į', 'à®ķà®³', 'à¯į', 'Ġà®İà®©', 'à¯į', 'à®±', 'Ġà®ķ', 'à®¾', 'à®´', 'à¯į', 'à®ª', 'à¯į', 'à®ª', 'à¯ģ', 'Ġà®īà®£à®°', 'à¯į', 'à®ļ', 'à¯į', 'à®ļ', 'à®¿', 'à®ķ', 'à¯į', 'à®ķ', 'à¯ģ', 'Ġà®ĩà®Łà®®', 'à®¿', 'à®²', 'à¯į', 'à®²', 'à®¾', 'à®®à®²', 'à¯į', 'Ġà®ĩà®°', 'à¯ģ', 'à®ª', 'à¯į', 'à®ªà®¤à®±', 'à¯į', 'à®ķ', 'à¯ĩ', 'à®±', 'à¯į', 'à®±', 'Ġà®¨', 'à®¿', 'à®²', 'à¯Ī', 'à®¯', 'à¯Ī', 'Ġà®ıà®±', 'à¯į', 'à®ªà®Ł', 'à¯ģ', 'à®¤', 'à¯į', 'à®¤', 'à®¿', 'à®¯à®¤à®±', 'à¯į', 'à®ķ', 'à®¾', 'à®ķà®µ', 'à¯ģ', 'à®®', 'à¯į', 'Ġà®µ', 'à¯Ĩ', 'à®ķ', 'à¯ģ', 'à®µ', 'à®¾', 'à®ķ', 'Ġà®ª', 'à®¾', 'à®°', 'à®¾', 'à®Ł', 'à¯į', 'à®Ł', 'à®¿', 'à®©', 'à®¾', 'à®°', 'à¯į.', '</s>']\n",
      "[]\n",
      "decoded_string = ' அவர் நிதி அமைச்சர் அருண்ஜேட்லியின் முயற்சியை தொழில் உற்பத்தியில் ஈடுபட்டுள்ள மாநிலங்கள் மத்திய அரசின் உதவியைப் ஈடாக பெறுவதற்கு ஏற்ற கட்டளைவிதியை அமைத்துக்கொடுத்தற்கும் மற்றும் தொழில் உற்பத்தி இல்லாத மாநிலங்களுடன் தாங்கள் சமமாக வைக்கப்பட்டுள்ளார்கள் என்ற காழ்ப்பு உணர்ச்சிக்கு இடமில்லாமல் இருப்பதற்கேற்ற நிலையை ஏற்படுத்தியதற்காகவும் வெகுவாக பாராட்டினார்.'\n",
      "Size of vocabulary: 50265\n",
      "Successfully trained tokenizer <tokenizers.Tokenizer object at 0x559c7d3353a0>\n"
     ]
    }
   ],
   "source": [
    "encoded_tokens = tokenizer.encode(_df[3])\n",
    "print(encoded_tokens.ids)\n",
    "print(encoded_tokens.type_ids)\n",
    "print(encoded_tokens.tokens)\n",
    "print(encoded_tokens.overflowing)\n",
    "\n",
    "encoded_ids = encoded_tokens.ids\n",
    "\n",
    "decoded_string = tokenizer.decode(encoded_ids)\n",
    "print(f\"{decoded_string = }\")\n",
    "\n",
    "print(\"Size of vocabulary:\", tokenizer.get_vocab_size())\n",
    "print(\"Successfully trained tokenizer\", tokenizer)"
   ]
  },
  {
   "cell_type": "code",
   "execution_count": 64,
   "metadata": {},
   "outputs": [
    {
     "name": "stderr",
     "output_type": "stream",
     "text": [
      " 10%|█         | 539578/5198661 [01:53<16:16, 4771.65it/s]\n"
     ]
    },
    {
     "ename": "KeyboardInterrupt",
     "evalue": "",
     "output_type": "error",
     "traceback": [
      "\u001b[0;31m---------------------------------------------------------------------------\u001b[0m",
      "\u001b[0;31mKeyboardInterrupt\u001b[0m                         Traceback (most recent call last)",
      "\u001b[1;32m/workspace/Mozhi/run.ipynb Cell 10\u001b[0m line \u001b[0;36m5\n\u001b[1;32m      <a href='vscode-notebook-cell://attached-container%2B7b22636f6e7461696e65724e616d65223a222f6b696e645f6a657073656e227d/workspace/Mozhi/run.ipynb#X41sdnNjb2RlLXJlbW90ZQ%3D%3D?line=2'>3</a>\u001b[0m dct \u001b[39m=\u001b[39m defaultdict(\u001b[39mint\u001b[39m)\n\u001b[1;32m      <a href='vscode-notebook-cell://attached-container%2B7b22636f6e7461696e65724e616d65223a222f6b696e645f6a657073656e227d/workspace/Mozhi/run.ipynb#X41sdnNjb2RlLXJlbW90ZQ%3D%3D?line=3'>4</a>\u001b[0m \u001b[39mfor\u001b[39;00m text \u001b[39min\u001b[39;00m tqdm(_df):\n\u001b[0;32m----> <a href='vscode-notebook-cell://attached-container%2B7b22636f6e7461696e65724e616d65223a222f6b696e645f6a657073656e227d/workspace/Mozhi/run.ipynb#X41sdnNjb2RlLXJlbW90ZQ%3D%3D?line=4'>5</a>\u001b[0m     encoded_tokens \u001b[39m=\u001b[39m tokenizer\u001b[39m.\u001b[39;49mencode(text)\n\u001b[1;32m      <a href='vscode-notebook-cell://attached-container%2B7b22636f6e7461696e65724e616d65223a222f6b696e645f6a657073656e227d/workspace/Mozhi/run.ipynb#X41sdnNjb2RlLXJlbW90ZQ%3D%3D?line=5'>6</a>\u001b[0m     \u001b[39mfor\u001b[39;00m token \u001b[39min\u001b[39;00m encoded_tokens\u001b[39m.\u001b[39mtokens:\n\u001b[1;32m      <a href='vscode-notebook-cell://attached-container%2B7b22636f6e7461696e65724e616d65223a222f6b696e645f6a657073656e227d/workspace/Mozhi/run.ipynb#X41sdnNjb2RlLXJlbW90ZQ%3D%3D?line=6'>7</a>\u001b[0m         dct[token] \u001b[39m+\u001b[39m\u001b[39m=\u001b[39m \u001b[39m1\u001b[39m\n",
      "\u001b[0;31mKeyboardInterrupt\u001b[0m: "
     ]
    }
   ],
   "source": [
    "from collections import defaultdict\n",
    "\n",
    "dct = defaultdict(int)\n",
    "for text in tqdm(_df):\n",
    "    encoded_tokens = tokenizer.encode(text)\n",
    "    for token in encoded_tokens.tokens:\n",
    "        dct[token] += 1\n",
    "\n",
    "dct = dict(sorted(dct.items(), key=lambda x: x[1], reverse=True))\n",
    "dct"
   ]
  },
  {
   "cell_type": "markdown",
   "metadata": {},
   "source": [
    "### **Inspecting BART Tokenizer**"
   ]
  },
  {
   "cell_type": "code",
   "execution_count": 68,
   "metadata": {},
   "outputs": [
    {
     "data": {
      "text/plain": [
       "BartTokenizer(name_or_path='facebook/bart-base', vocab_size=50265, model_max_length=1024, is_fast=False, padding_side='right', truncation_side='right', special_tokens={'bos_token': '<s>', 'eos_token': '</s>', 'unk_token': '<unk>', 'sep_token': '</s>', 'pad_token': '<pad>', 'cls_token': '<s>', 'mask_token': '<mask>'}, clean_up_tokenization_spaces=True),  added_tokens_decoder={\n",
       "\t0: AddedToken(\"<s>\", rstrip=False, lstrip=False, single_word=False, normalized=True, special=False),\n",
       "\t1: AddedToken(\"<pad>\", rstrip=False, lstrip=False, single_word=False, normalized=True, special=False),\n",
       "\t2: AddedToken(\"</s>\", rstrip=False, lstrip=False, single_word=False, normalized=True, special=False),\n",
       "\t3: AddedToken(\"<unk>\", rstrip=False, lstrip=False, single_word=False, normalized=True, special=False),\n",
       "\t50264: AddedToken(\"<mask>\", rstrip=False, lstrip=True, single_word=False, normalized=True, special=False),\n",
       "}"
      ]
     },
     "execution_count": 68,
     "metadata": {},
     "output_type": "execute_result"
    }
   ],
   "source": [
    "from transformers import BartTokenizer\n",
    "_tokenizer = BartTokenizer.from_pretrained('facebook/bart-base')\n",
    "_tokenizer"
   ]
  },
  {
   "cell_type": "code",
   "execution_count": 69,
   "metadata": {},
   "outputs": [
    {
     "data": {
      "text/plain": [
       "'<s>என்றுதான் நான் சொல்ல வருகிறேன்.</s>'"
      ]
     },
     "execution_count": 69,
     "metadata": {},
     "output_type": "execute_result"
    }
   ],
   "source": [
    "_tokenizer.decode(tokenizer.encode(_df[0]))"
   ]
  },
  {
   "cell_type": "code",
   "execution_count": 70,
   "metadata": {},
   "outputs": [
    {
     "name": "stdout",
     "output_type": "stream",
     "text": [
      "<s>\n",
      "�\n",
      "�\n",
      "�\n",
      "�\n",
      "�\n",
      "�\n",
      "�\n",
      "�\n",
      "�\n",
      "�\n",
      "�\n",
      "�\n",
      "�\n",
      "�\n",
      "�\n",
      "�\n",
      "�\n",
      "�\n",
      "�\n",
      "�\n",
      "�\n",
      "�\n",
      "�\n",
      "�\n",
      "�\n",
      "�\n",
      "�\n",
      " \n",
      "�\n",
      "�\n",
      "�\n",
      "�\n",
      "�\n",
      "�\n",
      "�\n",
      "�\n",
      "�\n",
      "�\n",
      "�\n",
      "�\n",
      " \n",
      "�\n",
      "�\n",
      "�\n",
      "�\n",
      "�\n",
      "�\n",
      "�\n",
      "�\n",
      "�\n",
      "�\n",
      "�\n",
      "�\n",
      "�\n",
      "�\n",
      "�\n",
      " \n",
      "�\n",
      "�\n",
      "�\n",
      "�\n",
      "�\n",
      "�\n",
      "�\n",
      "�\n",
      "�\n",
      "�\n",
      "�\n",
      "�\n",
      "�\n",
      "�\n",
      "�\n",
      "�\n",
      "�\n",
      "�\n",
      "�\n",
      "�\n",
      "�\n",
      "�\n",
      "�\n",
      "�\n",
      "�\n",
      "�\n",
      "�\n",
      ".\n",
      "</s>\n"
     ]
    }
   ],
   "source": [
    "lst = _tokenizer.encode(_df[0])\n",
    "for item in lst:\n",
    "    print(_tokenizer.decode(item))"
   ]
  },
  {
   "cell_type": "markdown",
   "metadata": {},
   "source": [
    "## **Model**"
   ]
  },
  {
   "cell_type": "code",
   "execution_count": null,
   "metadata": {},
   "outputs": [],
   "source": []
  }
 ],
 "metadata": {
  "kernelspec": {
   "display_name": "Python 3",
   "language": "python",
   "name": "python3"
  },
  "language_info": {
   "codemirror_mode": {
    "name": "ipython",
    "version": 3
   },
   "file_extension": ".py",
   "mimetype": "text/x-python",
   "name": "python",
   "nbconvert_exporter": "python",
   "pygments_lexer": "ipython3",
   "version": "3.10.12"
  }
 },
 "nbformat": 4,
 "nbformat_minor": 2
}
